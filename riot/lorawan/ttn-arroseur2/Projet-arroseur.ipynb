{
 "cells": [
  {
   "cell_type": "markdown",
   "metadata": {
    "tags": []
   },
   "source": [
    "## Projet Arroseur\n",
    "\n",
    "Pour compiler sur une seule carte, suivez les instructions suivante "
   ]
  },
  {
   "cell_type": "code",
   "execution_count": 57,
   "metadata": {},
   "outputs": [
    {
     "name": "stdout",
     "output_type": "stream",
     "text": [
      "\u001b[1;32mBuilding application \"arroseur\" for \"b-l072z-lrwan1\" with MCU \"stm32\".\u001b[0m\n",
      "\n",
      "\"make\" -C /home/jovyan/work/training/riot/RIOT/pkg/cayenne-lpp\n",
      "\"make\" -C /home/jovyan/work/training/riot/RIOT/build/pkg/cayenne-lpp -f /home/jovyan/work/training/riot/RIOT/Makefile.base\n",
      "\"make\" -C /home/jovyan/work/training/riot/RIOT/pkg/semtech-loramac\n",
      "\"make\" -C /home/jovyan/work/training/riot/RIOT/build/pkg/semtech-loramac/src/boards/mcu -f /home/jovyan/work/training/riot/RIOT/pkg/semtech-loramac/Makefile.loramac_arch\n",
      "\"make\" -C /home/jovyan/work/training/riot/RIOT/build/pkg/semtech-loramac/src/system/crypto -f /home/jovyan/work/training/riot/RIOT/pkg/semtech-loramac/Makefile.loramac_crypto\n",
      "\"make\" -C /home/jovyan/work/training/riot/RIOT/build/pkg/semtech-loramac/src/mac -f /home/jovyan/work/training/riot/RIOT/pkg/semtech-loramac/Makefile.loramac_mac\n",
      "\"make\" -C /home/jovyan/work/training/riot/RIOT/build/pkg/semtech-loramac/src/mac/region -f /home/jovyan/work/training/riot/RIOT/pkg/semtech-loramac/Makefile.loramac_region\n",
      "\u001b[01m\u001b[K/home/jovyan/work/training/riot/lorawan/ttn-arroseur2/main.c:\u001b[m\u001b[K In function '\u001b[01m\u001b[K_recv\u001b[m\u001b[K':\n",
      "\u001b[01m\u001b[K/home/jovyan/work/training/riot/lorawan/ttn-arroseur2/main.c:66:55:\u001b[m\u001b[K \u001b[01;31m\u001b[Kerror: \u001b[m\u001b[Kexpected '\u001b[01m\u001b[K)\u001b[m\u001b[K' before '\u001b[01m\u001b[K;\u001b[m\u001b[K' token\n",
      "   66 |         if\u001b[34m\u001b[K(\u001b[m\u001b[Kstrcmp((char *)loramac.rx_data.payload, \"\")\u001b[01;31m\u001b[K;\u001b[m\u001b[K, \"start\"))\n",
      "      |           \u001b[34m\u001b[K~\u001b[m\u001b[K                                           \u001b[01;31m\u001b[K^\u001b[m\u001b[K\n",
      "      |                                                       \u001b[32m\u001b[K)\u001b[m\u001b[K\n",
      "\u001b[01m\u001b[K/home/jovyan/work/training/riot/lorawan/ttn-arroseur2/main.c:66:66:\u001b[m\u001b[K \u001b[01;31m\u001b[Kerror: \u001b[m\u001b[Kexpected statement before '\u001b[01m\u001b[K)\u001b[m\u001b[K' token\n",
      "   66 |         if(strcmp((char *)loramac.rx_data.payload, \"\");, \"start\")\u001b[01;31m\u001b[K)\u001b[m\u001b[K\n",
      "      |                                                                  \u001b[01;31m\u001b[K^\u001b[m\u001b[K\n",
      "make[1]: *** [/home/jovyan/work/training/riot/RIOT/Makefile.base:146: /home/jovyan/work/training/riot/lorawan/ttn-arroseur2/bin/b-l072z-lrwan1/application_arroseur/main.o] Error 1\n",
      "make: *** [/home/jovyan/work/training/riot/lorawan/ttn-arroseur2/../../RIOT/Makefile.include:703: application_arroseur.module] Error 2\n"
     ]
    }
   ],
   "source": [
    "!make"
   ]
  },
  {
   "cell_type": "markdown",
   "metadata": {
    "tags": []
   },
   "source": []
  },
  {
   "cell_type": "code",
   "execution_count": 53,
   "metadata": {},
   "outputs": [
    {
     "name": "stdout",
     "output_type": "stream",
     "text": [
      "{\n",
      "    \"id\": 306745\n",
      "}\n"
     ]
    }
   ],
   "source": [
    "!iotlab-experiment submit -n \"ttn-arroseur2\" -d 120 -l 2,archi=st-lrwan1:sx1276+site=saclay"
   ]
  },
  {
   "cell_type": "markdown",
   "metadata": {},
   "source": []
  },
  {
   "cell_type": "code",
   "execution_count": 54,
   "metadata": {},
   "outputs": [
    {
     "name": "stdout",
     "output_type": "stream",
     "text": [
      "Waiting that experiment 306745 gets in state Running\n",
      "\"Running\"\n"
     ]
    }
   ],
   "source": [
    "!iotlab-experiment wait --timeout 30 --cancel-on-timeout"
   ]
  },
  {
   "cell_type": "markdown",
   "metadata": {},
   "source": [
    "Lancer dans un nouveau terminal"
   ]
  },
  {
   "cell_type": "raw",
   "metadata": {},
   "source": [
    "make IOTLAB_NODE=auto -C riot/lorawan/ttn-arroseur2 term"
   ]
  },
  {
   "cell_type": "markdown",
   "metadata": {},
   "source": []
  },
  {
   "cell_type": "code",
   "execution_count": 55,
   "metadata": {},
   "outputs": [
    {
     "name": "stdout",
     "output_type": "stream",
     "text": [
      "iotlab-node --jmespath='keys(@)[0]' --format='lambda ret: exit(int(ret))'  --list saclay,st-lrwan1,11 --flash /home/jovyan/work/training/riot/lorawan/ttn-arroseur2/bin/b-l072z-lrwan1/arroseur.bin\n"
     ]
    }
   ],
   "source": [
    "!make IOTLAB_NODE=auto flash-only"
   ]
  },
  {
   "cell_type": "markdown",
   "metadata": {
    "jp-MarkdownHeadingCollapsed": true,
    "tags": []
   },
   "source": [
    "Pour lancer avec plusieur carte, un debut de travail a été commencé, mais il ne fonctionne qu'une une seule carte (un peu inutile, et n'affiche pas les log de la carte)"
   ]
  },
  {
   "cell_type": "markdown",
   "metadata": {},
   "source": [
    "!./start"
   ]
  },
  {
   "cell_type": "code",
   "execution_count": null,
   "metadata": {},
   "outputs": [],
   "source": [
    "## Parler a la carte\n",
    "\n",
    "Pour parler a la carte un client MQTT (mosquitto_pub), on peut lui dire de passer un mode automatique, ou d'allumer/eteindre l'arrosage.\n",
    "Pour utiliser ce client, lancer les script .sh arroseur_start.sh, arroseur_stop.sh et arroseur_auto.sh"
   ]
  },
  {
   "cell_type": "markdown",
   "metadata": {},
   "source": []
  }
 ],
 "metadata": {
  "kernelspec": {
   "display_name": "Python 3 (ipykernel)",
   "language": "python",
   "name": "python3"
  },
  "language_info": {
   "codemirror_mode": {
    "name": "ipython",
    "version": 3
   },
   "file_extension": ".py",
   "mimetype": "text/x-python",
   "name": "python",
   "nbconvert_exporter": "python",
   "pygments_lexer": "ipython3",
   "version": "3.9.7"
  }
 },
 "nbformat": 4,
 "nbformat_minor": 4
}
